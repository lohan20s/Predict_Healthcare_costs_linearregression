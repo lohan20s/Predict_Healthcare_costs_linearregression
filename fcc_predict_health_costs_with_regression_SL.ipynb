{
  "cells": [
    {
      "cell_type": "markdown",
      "metadata": {
        "id": "view-in-github",
        "colab_type": "text"
      },
      "source": [
        "<a href=\"https://colab.research.google.com/github/lohan20s/Predict_Healthcare_costs_linearregression/blob/main/fcc_predict_health_costs_with_regression_SL.ipynb\" target=\"_parent\"><img src=\"https://colab.research.google.com/assets/colab-badge.svg\" alt=\"Open In Colab\"/></a>"
      ]
    },
    {
      "cell_type": "code",
      "execution_count": null,
      "metadata": {
        "id": "1rRo8oNqZ-Rj"
      },
      "outputs": [],
      "source": [
        "# Import libraries. You may or may not use all of these.\n",
        "!pip install -q git+https://github.com/tensorflow/docs\n",
        "import matplotlib.pyplot as plt\n",
        "import numpy as np\n",
        "import pandas as pd\n",
        "\n",
        "try:\n",
        "  # %tensorflow_version only exists in Colab.\n",
        "  %tensorflow_version 2.x\n",
        "except Exception:\n",
        "  pass\n",
        "import tensorflow as tf\n",
        "\n",
        "from tensorflow import keras\n",
        "from tensorflow.keras import layers\n",
        "\n",
        "import tensorflow_docs as tfdocs\n",
        "import tensorflow_docs.plots\n",
        "import tensorflow_docs.modeling"
      ]
    },
    {
      "cell_type": "code",
      "execution_count": null,
      "metadata": {
        "id": "CiX2FI4gZtTt",
        "collapsed": true
      },
      "outputs": [],
      "source": [
        "# Import data\n",
        "!wget https://cdn.freecodecamp.org/project-data/health-costs/insurance.csv\n",
        "dataset = pd.read_csv('insurance.csv')\n",
        "dataset.tail()"
      ]
    },
    {
      "cell_type": "code",
      "source": [
        "#check if there are any invalid numbers\n",
        "dataset.isna().sum()\n"
      ],
      "metadata": {
        "id": "8VtQn5AuJzMi"
      },
      "execution_count": null,
      "outputs": []
    },
    {
      "cell_type": "code",
      "source": [
        "#Convert categorical columns data in the above dataset to numbers (like 0,1)\n",
        "dataset_cat = dataset.copy()\n",
        "dataset_cat['sex'] = dataset_cat['sex'].map({'male': 1, 'female': 0})\n",
        "dataset_cat['smoker'] = dataset_cat['smoker'].map({'yes': 1, 'no': 0})\n",
        "dataset_cat['region'] = dataset_cat['region'].map({'northwest': 0, 'northeast': 1, 'southeast': 2, 'southwest': 3})\n",
        "\n",
        "print(dataset_cat.head())\n"
      ],
      "metadata": {
        "id": "Z13IMDSyMPKV"
      },
      "execution_count": null,
      "outputs": []
    },
    {
      "cell_type": "code",
      "source": [
        "#Use 80% of the data as the train_dataset and 20% of the data as the test_dataset.\n",
        "train_dataset = dataset_cat.sample(frac=0.8, random_state=0)\n",
        "test_dataset = dataset_cat.drop(train_dataset.index)\n",
        "print(train_dataset.head())\n",
        "print(test_dataset.head())"
      ],
      "metadata": {
        "id": "vyC7lgOOMJKt"
      },
      "execution_count": null,
      "outputs": []
    },
    {
      "cell_type": "code",
      "source": [
        "#remove the \"expenses\" column from these datasets to create new datasets and labels\n",
        "train_labels = train_dataset.pop('expenses')\n",
        "test_labels = test_dataset.pop('expenses')\n",
        "numfeatures=len(train_dataset.columns)"
      ],
      "metadata": {
        "id": "ELfh45REKHCa"
      },
      "execution_count": null,
      "outputs": []
    },
    {
      "cell_type": "code",
      "source": [
        "# Normalize the input features\n",
        "normalizer = layers.Normalization()\n",
        "normalizer.adapt(np.array(train_dataset)) #save the mean and variance from the training dataset"
      ],
      "metadata": {
        "id": "R5V-Ue4a1LR9"
      },
      "execution_count": null,
      "outputs": []
    },
    {
      "cell_type": "code",
      "source": [
        "#Create a keras model and train it with the train_dataset.\n",
        "model = keras.Sequential([\n",
        "    normalizer,\n",
        "    layers.Dense(units=numfeatures, activation='relu'), # add a hidden layer for training stability\n",
        "    layers.Dense(units=1), # add the linear regression layer\n",
        "])\n",
        "model.summary()\n",
        "model.compile(optimizer=keras.optimizers.Adam(learning_rate=0.1), loss='mean_absolute_error',metrics=['mean_absolute_error', 'mean_squared_error'])\n"
      ],
      "metadata": {
        "id": "BLPYSd772Hpk"
      },
      "execution_count": null,
      "outputs": []
    },
    {
      "cell_type": "code",
      "source": [
        "#train the model with the training dataset\n",
        "history=model.fit(train_dataset,train_labels, epochs=150, verbose=0)\n",
        "model.summary()\n",
        "\n",
        "#plot mae over epochs to determine the correct number of epochs\n",
        "mae_history = history.history['mean_absolute_error']\n",
        "\n",
        "plt.plot(range(1, len(mae_history) + 1), mae_history, label='MAE')\n",
        "plt.title('Mean Absolute Error Over Epochs')\n",
        "plt.xlabel('Epochs')\n",
        "plt.ylabel('Mean Absolute Error')\n",
        "plt.legend()\n",
        "plt.grid(True)\n",
        "plt.show()\n"
      ],
      "metadata": {
        "id": "YALZUc2SJhHm"
      },
      "execution_count": null,
      "outputs": []
    },
    {
      "cell_type": "code",
      "execution_count": null,
      "metadata": {
        "id": "Xe7RXH3N3CWU"
      },
      "outputs": [],
      "source": [
        "# RUN THIS CELL TO TEST YOUR MODEL. DO NOT MODIFY CONTENTS.\n",
        "# Test model by checking how well the model generalizes using the test set.\n",
        "loss, mae, mse = model.evaluate(test_dataset, test_labels, verbose=2)\n",
        "\n",
        "print(\"Testing set Mean Abs Error: {:5.2f} expenses\".format(mae))\n",
        "\n",
        "if mae < 3500:\n",
        "  print(\"You passed the challenge. Great job!\")\n",
        "else:\n",
        "  print(\"The Mean Abs Error must be less than 3500. Keep trying.\")\n",
        "\n",
        "# Plot predictions.\n",
        "test_predictions = model.predict(test_dataset).flatten()\n",
        "\n",
        "a = plt.axes(aspect='equal')\n",
        "plt.scatter(test_labels, test_predictions)\n",
        "plt.xlabel('True values (expenses)')\n",
        "plt.ylabel('Predictions (expenses)')\n",
        "lims = [0, 50000]\n",
        "plt.xlim(lims)\n",
        "plt.ylim(lims)\n",
        "_ = plt.plot(lims,lims)\n"
      ]
    },
    {
      "cell_type": "code",
      "source": [
        "#This is not part of the project, but we can also develop a linear model using statsmodels (this will be a closed form solution)\n",
        "import statsmodels.api as sm\n",
        "from sklearn.metrics import mean_absolute_error\n",
        "\n",
        "# Add intercept and fit the model\n",
        "X_const = sm.add_constant(train_dataset)\n",
        "model = sm.OLS(train_labels, X_const).fit()\n",
        "\n",
        "# print model coefficients\n",
        "print(\"Statsmodels Coefficients:\\n\", model.params)\n",
        "\n",
        "# compute mae for the test dataset\n",
        "y_pred = model.predict(sm.add_constant(test_dataset))\n",
        "mae = mean_absolute_error(test_labels, y_pred)\n",
        "print(f\"Mean Absolute Error on test dataset: {mae:.4f}\")"
      ],
      "metadata": {
        "id": "QCmfZ4U553OT"
      },
      "execution_count": null,
      "outputs": []
    },
    {
      "cell_type": "code",
      "source": [
        "#This is not part of the project, but we can also develop a linear model using sklearn (this will be a closed form solution)\n",
        "from sklearn.linear_model import LinearRegression\n",
        "from sklearn.metrics import mean_absolute_error\n",
        "\n",
        "# Create and fit model\n",
        "model = LinearRegression(fit_intercept=True)\n",
        "model.fit(train_dataset, train_labels)\n",
        "\n",
        "# print model coefficients\n",
        "print(\"\\nSklearn Coefficients:\\n\", np.append(model.intercept_, model.coef_))\n",
        "\n",
        "#compute mae\n",
        "y_pred = model.predict(test_dataset)\n",
        "mae = mean_absolute_error(test_labels, y_pred)\n",
        "print(f\"Mean Absolute Error on test dataset: {mae:.4f}\")"
      ],
      "metadata": {
        "id": "jk1zftz6nkfT"
      },
      "execution_count": null,
      "outputs": []
    }
  ],
  "metadata": {
    "colab": {
      "private_outputs": true,
      "provenance": [],
      "include_colab_link": true
    },
    "kernelspec": {
      "display_name": "Python 3",
      "name": "python3"
    }
  },
  "nbformat": 4,
  "nbformat_minor": 0
}